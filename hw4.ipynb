{
 "cells": [
  {
   "cell_type": "code",
   "execution_count": 28,
   "metadata": {},
   "outputs": [],
   "source": [
    "import pandas as pd\n",
    "import numpy as np\n",
    "from sklearn.model_selection import KFold\n",
    "from sklearn.tree import DecisionTreeRegressor\n",
    "from sklearn.metrics import mean_squared_error\n",
    "import random\n",
    "import matplotlib.pyplot as plt\n",
    "from sklearn.neural_network import MLPRegressor\n",
    "import gensim\n",
    "import warnings\n",
    "warnings.filterwarnings('ignore')"
   ]
  },
  {
   "cell_type": "markdown",
   "metadata": {},
   "source": [
    "#### Preprocess Data"
   ]
  },
  {
   "cell_type": "code",
   "execution_count": 7,
   "metadata": {},
   "outputs": [],
   "source": [
    "data = pd.read_csv('OnlineNewsPopularityTrain.csv', delimiter = ',')\n",
    "data.columns = [c.strip() for c in data.columns]\n",
    "\n",
    "columns = []\n",
    "for c in data.columns:\n",
    "    if c!='url' and c!='shares' and c!='topic' and c!='topic_numeric':\n",
    "        columns.append(c)\n",
    "X = data.loc[:, columns]\n",
    "y = data.loc[:, 'shares']\n",
    "testData = pd.read_csv('OnlineNewsPopularityTest.csv', delimiter = ',')\n",
    "testData.columns = [c.strip() for c in testData.columns]\n",
    "X_test = testData.loc[:, columns]\n",
    "y_test = testData.loc[:, 'shares']\n",
    "# assert (len(X.columns) == len(X_test.columns))"
   ]
  },
  {
   "cell_type": "code",
   "execution_count": 8,
   "metadata": {},
   "outputs": [
    {
     "data": {
      "text/plain": [
       "38422"
      ]
     },
     "execution_count": 8,
     "metadata": {},
     "output_type": "execute_result"
    }
   ],
   "source": [
    "len(X)"
   ]
  },
  {
   "cell_type": "code",
   "execution_count": 9,
   "metadata": {},
   "outputs": [],
   "source": [
    "def cross_val(model, xData, yData, num_fold):\n",
    "    fold = list(range(num_fold))\n",
    "    np.random.seed(100)\n",
    "    xData['fold'] = xData.apply(lambda x: random.choice(fold), axis=1)\n",
    "    rss=[]\n",
    "    for i in fold:\n",
    "        # model = model(max_depth=depth)\n",
    "        \n",
    "        X_testData = xData.loc[(xData['fold']==i)]\n",
    "        X_trainData = xData.loc[(xData['fold']!=i)]\n",
    "        y_testData = yData.loc[X_testData.index]\n",
    "        y_trainData = yData.loc[X_trainData.index]\n",
    "        model.fit(X_trainData, y_trainData)\n",
    "        y_pred = model.predict(X_testData)\n",
    "        rss.append(np.sqrt(mean_squared_error(y_testData, y_pred)*len(y_testData)))\n",
    "    xData.pop('fold')\n",
    "    return sum(rss)/len(rss)\n",
    "                   "
   ]
  },
  {
   "cell_type": "code",
   "execution_count": 10,
   "metadata": {},
   "outputs": [],
   "source": [
    "def GetSmallKey(thisDict):\n",
    "    \n",
    "    smallkey = list(thisDict.keys())[0]\n",
    "    small = thisDict[smallkey]\n",
    "    for key, value in thisDict.items():\n",
    "        if thisDict[key] < small:\n",
    "            small = thisDict[key]\n",
    "            smallkey = key\n",
    "    return smallkey"
   ]
  },
  {
   "cell_type": "markdown",
   "metadata": {},
   "source": [
    "### 1(a)"
   ]
  },
  {
   "cell_type": "code",
   "execution_count": 11,
   "metadata": {},
   "outputs": [
    {
     "data": {
      "text/plain": [
       "2"
      ]
     },
     "execution_count": 11,
     "metadata": {},
     "output_type": "execute_result"
    }
   ],
   "source": [
    "thisDict = {}\n",
    "for max_depth in range(1,10):\n",
    "    model = DecisionTreeRegressor(max_depth=max_depth)\n",
    "    score = cross_val(model, X, y, 5)\n",
    "    thisDict[max_depth]=score\n",
    "optimalDepth = GetSmallKey(thisDict)\n",
    "optimalDepth"
   ]
  },
  {
   "cell_type": "code",
   "execution_count": 12,
   "metadata": {},
   "outputs": [
    {
     "data": {
      "text/plain": [
       "DecisionTreeRegressor(criterion='mse', max_depth=2, max_features=None,\n",
       "                      max_leaf_nodes=None, min_impurity_decrease=0.0,\n",
       "                      min_impurity_split=None, min_samples_leaf=1,\n",
       "                      min_samples_split=2, min_weight_fraction_leaf=0.0,\n",
       "                      presort=False, random_state=None, splitter='best')"
      ]
     },
     "execution_count": 12,
     "metadata": {},
     "output_type": "execute_result"
    }
   ],
   "source": [
    "model = DecisionTreeRegressor(max_depth=optimalDepth)\n",
    "model.fit(X,y)"
   ]
  },
  {
   "cell_type": "markdown",
   "metadata": {},
   "source": [
    "### 1(c)"
   ]
  },
  {
   "cell_type": "code",
   "execution_count": 13,
   "metadata": {},
   "outputs": [
    {
     "name": "stdout",
     "output_type": "stream",
     "text": [
      "[0.         0.         0.         0.         0.         0.\n",
      " 0.         0.         0.         0.         0.         0.\n",
      " 0.         0.         0.         0.         0.         0.\n",
      " 0.         0.         0.         0.         0.         0.\n",
      " 0.         0.         0.47888079 0.40939899 0.         0.11172023\n",
      " 0.         0.         0.         0.         0.         0.\n",
      " 0.         0.         0.         0.         0.         0.\n",
      " 0.         0.         0.         0.         0.         0.\n",
      " 0.         0.         0.         0.         0.         0.\n",
      " 0.         0.         0.         0.         0.        ]\n"
     ]
    }
   ],
   "source": [
    "print(model.feature_importances_)"
   ]
  },
  {
   "cell_type": "code",
   "execution_count": 14,
   "metadata": {},
   "outputs": [],
   "source": [
    "featureList = []\n",
    "for i, j in zip(columns, model.feature_importances_):\n",
    "    if j > 0:\n",
    "      featureList.append(i)  "
   ]
  },
  {
   "cell_type": "code",
   "execution_count": 15,
   "metadata": {},
   "outputs": [
    {
     "data": {
      "text/plain": [
       "['kw_avg_avg', 'self_reference_min_shares', 'self_reference_avg_sharess']"
      ]
     },
     "execution_count": 15,
     "metadata": {},
     "output_type": "execute_result"
    }
   ],
   "source": [
    "featureList"
   ]
  },
  {
   "cell_type": "code",
   "execution_count": 16,
   "metadata": {},
   "outputs": [
    {
     "name": "stdout",
     "output_type": "stream",
     "text": [
      "290019.59784158063\n"
     ]
    }
   ],
   "source": [
    "\n",
    "y_pred = model.predict(X_test)\n",
    "rss = np.sqrt(mean_squared_error(y_test, y_pred)*len(y_test))\n",
    "print(rss)"
   ]
  },
  {
   "cell_type": "markdown",
   "metadata": {},
   "source": [
    "### 1(b)"
   ]
  },
  {
   "cell_type": "code",
   "execution_count": 29,
   "metadata": {},
   "outputs": [],
   "source": [
    "class RandomForest:\n",
    "    def __init__(self, num_tree = 10, feature_fraction = 0.9, sample_fraction = 0.9, max_depth = 10):\n",
    "        self.num_tree = num_tree\n",
    "        self.max_depth = max_depth\n",
    "        self.feature_fraction = feature_fraction\n",
    "        self.sample_fraction = sample_fraction\n",
    "        self.models = []\n",
    "        self.columns = []\n",
    "        \n",
    "    def fit(self, x, y):\n",
    "        for _ in range(self.num_tree):\n",
    "            m = DecisionTreeRegressor(max_depth = self.max_depth)\n",
    "            new_x = x.sample(frac=self.sample_fraction)\n",
    "            new_y = y.loc[new_x.index]\n",
    "            s = pd.Series(new_x.columns).sample(frac=self.feature_fraction)\n",
    "            new_x = new_x.loc[:, s]\n",
    "            # print(len(new_x.columns))\n",
    "            m.fit(new_x, new_y)\n",
    "            self.models.append(m)\n",
    "            self.columns.append(s)\n",
    "        return self\n",
    "            \n",
    "    def predict(self, x):\n",
    "        result=np.zeros(len(x))\n",
    "        for columns, model in zip(self.columns, self.models):\n",
    "            result+=np.array(model.predict(x.loc[:, columns]))\n",
    "        return result/self.num_tree\n",
    "            \n",
    "        "
   ]
  },
  {
   "cell_type": "code",
   "execution_count": 30,
   "metadata": {
    "scrolled": true
   },
   "outputs": [],
   "source": [
    "thisDict ={}\n",
    "thisMatrix = np.zeros([4,4])\n",
    "for max_depth in range(1,5):\n",
    "    for num_tree in range(1,5):\n",
    "        \n",
    "        modelRandomForest = RandomForest(num_tree = num_tree, max_depth=max_depth)\n",
    "        score = cross_val(modelRandomForest, X, y, 5)\n",
    "        thisDict[num_tree, max_depth]=score\n",
    "        thisMatrix[num_tree-1, max_depth-1] = score\n",
    "        "
   ]
  },
  {
   "cell_type": "code",
   "execution_count": 31,
   "metadata": {},
   "outputs": [],
   "source": [
    "optimal = GetSmallKey(thisDict)"
   ]
  },
  {
   "cell_type": "code",
   "execution_count": 32,
   "metadata": {},
   "outputs": [
    {
     "data": {
      "text/plain": [
       "{(1, 1): 1252714.126365335,\n",
       " (2, 1): 1235078.8161193202,\n",
       " (3, 1): 1217213.3767764056,\n",
       " (4, 1): 1234405.4080761534,\n",
       " (1, 2): 1294032.5805795307,\n",
       " (2, 2): 1271490.5769890002,\n",
       " (3, 2): 1261013.816688199,\n",
       " (4, 2): 1265479.5815478512,\n",
       " (1, 3): 1507239.726901819,\n",
       " (2, 3): 1293968.7571174733,\n",
       " (3, 3): 1301704.9207236224,\n",
       " (4, 3): 1306492.7489997814,\n",
       " (1, 4): 1486981.7486795057,\n",
       " (2, 4): 1585803.6695444856,\n",
       " (3, 4): 1372217.1797709402,\n",
       " (4, 4): 1254299.2295549854}"
      ]
     },
     "execution_count": 32,
     "metadata": {},
     "output_type": "execute_result"
    }
   ],
   "source": [
    "thisDict"
   ]
  },
  {
   "cell_type": "code",
   "execution_count": 33,
   "metadata": {},
   "outputs": [
    {
     "data": {
      "text/plain": [
       "array([[1252714.12636533, 1294032.58057953, 1507239.72690182,\n",
       "        1486981.74867951],\n",
       "       [1235078.81611932, 1271490.576989  , 1293968.75711747,\n",
       "        1585803.66954449],\n",
       "       [1217213.37677641, 1261013.8166882 , 1301704.92072362,\n",
       "        1372217.17977094],\n",
       "       [1234405.40807615, 1265479.58154785, 1306492.74899978,\n",
       "        1254299.22955499]])"
      ]
     },
     "execution_count": 33,
     "metadata": {},
     "output_type": "execute_result"
    }
   ],
   "source": [
    "thisMatrix"
   ]
  },
  {
   "cell_type": "code",
   "execution_count": 34,
   "metadata": {},
   "outputs": [
    {
     "data": {
      "text/plain": [
       "<matplotlib.image.AxesImage at 0x1a1b894630>"
      ]
     },
     "execution_count": 34,
     "metadata": {},
     "output_type": "execute_result"
    },
    {
     "data": {
      "image/png": "[encoded data removed]",
      "text/plain": [
       "<Figure size 288x288 with 1 Axes>"
      ]
     },
     "metadata": {
      "needs_background": "light"
     },
     "output_type": "display_data"
    }
   ],
   "source": [
    "plt.matshow(thisMatrix)"
   ]
  },
  {
   "cell_type": "code",
   "execution_count": 35,
   "metadata": {},
   "outputs": [
    {
     "name": "stdout",
     "output_type": "stream",
     "text": [
      "290801.60687465017\n"
     ]
    }
   ],
   "source": [
    "modelRandomForest = RandomForest(num_tree = optimal[0], max_depth=optimal[1])\n",
    "modelRandomForest.fit(X,y)\n",
    "y_pred = modelRandomForest.predict(X_test)\n",
    "rss = np.sqrt(mean_squared_error(y_test, y_pred)*len(y_test))\n",
    "print(rss)"
   ]
  },
  {
   "cell_type": "markdown",
   "metadata": {},
   "source": [
    "### 1(d)"
   ]
  },
  {
   "cell_type": "code",
   "execution_count": 36,
   "metadata": {},
   "outputs": [],
   "source": [
    "thisDict ={}\n",
    "hidden_layer_sizes = [(10, 5, 5),(20,10)]\n",
    "for h in hidden_layer_sizes:\n",
    "    for learning_rate in [0.1, 0.01]:\n",
    "        for activation_func in ['logistic', 'relu']:\n",
    "            modelMLP = MLPRegressor(hidden_layer_sizes=h, learning_rate_init = learning_rate, activation = activation_func)\n",
    "            score = cross_val(modelMLP, X, y, 5)\n",
    "            thisDict[h,learning_rate,activation_func]=score\n",
    "            "
   ]
  },
  {
   "cell_type": "code",
   "execution_count": 39,
   "metadata": {},
   "outputs": [
    {
     "name": "stdout",
     "output_type": "stream",
     "text": [
      "295702.212887975\n"
     ]
    }
   ],
   "source": [
    "opt = GetSmallKey(thisDict)\n",
    "modelMLP = MLPRegressor(hidden_layer_sizes=opt[0], learning_rate_init = opt[1], activation = opt[2])\n",
    "modelMLP.fit(X,y)\n",
    "y_pred = modelMLP.predict(X_test)\n",
    "rss = np.sqrt(mean_squared_error(y_test, y_pred)*len(y_test))\n",
    "print(rss)"
   ]
  },
  {
   "cell_type": "code",
   "execution_count": 42,
   "metadata": {},
   "outputs": [
    {
     "name": "stdout",
     "output_type": "stream",
     "text": [
      "295628.10712484404\n"
     ]
    }
   ],
   "source": [
    "\n",
    "optFeatureData = X.loc[:, featureList]\n",
    "optFeatureDataTest = X_test.loc[:,featureList]\n",
    "modelMLP.fit(optFeatureData,y)\n",
    "y_pred = modelMLP.predict(optFeatureDataTest)\n",
    "rss = np.sqrt(mean_squared_error(y_test, y_pred)*len(y_test))\n",
    "print(rss)"
   ]
  },
  {
   "cell_type": "markdown",
   "metadata": {},
   "source": [
    "#### Extra credit"
   ]
  },
  {
   "cell_type": "code",
   "execution_count": 60,
   "metadata": {},
   "outputs": [
    {
     "data": {
      "text/plain": [
       "1"
      ]
     },
     "execution_count": 60,
     "metadata": {},
     "output_type": "execute_result"
    }
   ],
   "source": [
    "data['topic']= data['url'].str.split('/').apply(lambda x: x[-2] if x[-1]=='' else x[-1]).str.split('-')\n",
    "testData['topic']= testData['url'].str.split('/').apply(lambda x: x[-2] if x[-1]=='' else x[-1]).str.split('-')\n",
    "\n",
    "word2vec = gensim.models.Word2Vec(list(data['topic']), size=100, window=5, min_count=1, workers=4)\n",
    "data['topic_numeric'] = data['topic'].apply(lambda x: np.mean(word2vec[x],axis=0))\n",
    "testData['topic'] = testData['topic'].apply(lambda x: [w for w in x if w in word2vec.wv.vocab])\n",
    "\n",
    "\n",
    "testData['topic_numeric'] = testData['topic'].apply(lambda x: np.mean(word2vec[x],axis=0) if len(x)>0 else np.zeros(100))\n",
    "\n",
    "X = pd.concat([data.loc[:, columns], pd.DataFrame(np.stack(data['topic_numeric'].values), index=X.index)], axis=1)\n",
    "X_test= pd.concat([X_test.loc[:, columns], pd.DataFrame(np.stack(testData['topic_numeric'].values), index=X_test.index)],\n",
    "                  axis=1)\n",
    "\n",
    "\n",
    "thisDict = {}\n",
    "for max_depth in range(1,10):\n",
    "    model = DecisionTreeRegressor(max_depth=max_depth)\n",
    "    score = cross_val(model, X, y, 5)\n",
    "    thisDict[max_depth]=score\n",
    "optimalDepth = GetSmallKey(thisDict)\n",
    "optimalDepth"
   ]
  },
  {
   "cell_type": "code",
   "execution_count": 61,
   "metadata": {},
   "outputs": [
    {
     "name": "stdout",
     "output_type": "stream",
     "text": [
      "290349.02367745846\n"
     ]
    }
   ],
   "source": [
    "model = DecisionTreeRegressor(max_depth=optimalDepth)\n",
    "model.fit(X,y)\n",
    "y_pred = model.predict(X_test)\n",
    "rss = np.sqrt(mean_squared_error(y_test, y_pred)*len(y_test))\n",
    "print(rss)"
   ]
  },
  {
   "cell_type": "code",
   "execution_count": 57,
   "metadata": {},
   "outputs": [
    {
     "name": "stdout",
     "output_type": "stream",
     "text": [
      "290349.02367745846\n"
     ]
    }
   ],
   "source": [
    "optFeatureData = X.loc[:, featureList]\n",
    "optFeatureDataTest = X_test.loc[:,featureList]\n",
    "model.fit(optFeatureData,y)\n",
    "y_pred = model.predict(optFeatureDataTest)\n",
    "rss = np.sqrt(mean_squared_error(y_test, y_pred)*len(y_test))\n",
    "print(rss)"
   ]
  },
  {
   "cell_type": "code",
   "execution_count": null,
   "metadata": {},
   "outputs": [],
   "source": []
  }
 ],
 "metadata": {
  "kernelspec": {
   "display_name": "Python 3",
   "language": "python",
   "name": "python3"
  },
  "language_info": {
   "codemirror_mode": {
    "name": "ipython",
    "version": 3
   },
   "file_extension": ".py",
   "mimetype": "text/x-python",
   "name": "python",
   "nbconvert_exporter": "python",
   "pygments_lexer": "ipython3",
   "version": "3.7.3"
  }
 },
 "nbformat": 4,
 "nbformat_minor": 2
}
